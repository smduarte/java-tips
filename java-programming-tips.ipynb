{
 "cells": [
  {
   "cell_type": "markdown",
   "metadata": {},
   "source": [
    "# Dicas de Programação em Java 8+"
   ]
  },
  {
   "cell_type": "markdown",
   "metadata": {},
   "source": [
    "#### [java.util.Arrays](https://docs.oracle.com/javase/8/docs/api/index.html?java/io/File.html)\n",
    "\n",
    "Operações sobre arrays..."
   ]
  },
  {
   "cell_type": "code",
   "execution_count": 262,
   "metadata": {},
   "outputs": [
    {
     "name": "stdout",
     "output_type": "stream",
     "text": [
      "[Zulmira, António, João]\n",
      "[António, João, Zulmira]\n"
     ]
    },
    {
     "data": {
      "text/plain": [
       "null"
      ]
     },
     "execution_count": 262,
     "metadata": {},
     "output_type": "execute_result"
    }
   ],
   "source": [
    "import java.util.*;\n",
    "\n",
    "String[] strings = {\"Zulmira\", \"António\", \"João\"};\n",
    "\n",
    "List<String> listOfStrings = Arrays.asList( strings );\n",
    "\n",
    "System.out.println( listOfStrings );\n",
    "\n",
    "Arrays.sort( strings );\n",
    "\n",
    "System.out.println( Arrays.asList( strings )) ;"
   ]
  },
  {
   "cell_type": "markdown",
   "metadata": {},
   "source": [
    "### [java.io.Files](https://docs.oracle.com/javase/8/docs/api/java/nio/file/Files.html)\n",
    "\n",
    "Permite a manipulação de ficheiros de forma sucinta. Permite ler e escrever ficheiros\n",
    "numa única operação. Permite iterar as linhas de uma ficheiro de texto. etc."
   ]
  },
  {
   "cell_type": "markdown",
   "metadata": {},
   "source": [
    "### [Static Imports](https://docs.oracle.com/javase/8/docs/technotes/guides/language/static-import.html)\n",
    "\n",
    "Permite chamar os métodos ou referenciar as constantes declaradas como `static` de uma classe,\n",
    "sem precisar de qualificar com o nome dessa classe. Permite tornar o código mais sucinto.\n",
    "\n",
    "#### Exemplo"
   ]
  },
  {
   "cell_type": "code",
   "execution_count": 127,
   "metadata": {},
   "outputs": [
    {
     "name": "stdout",
     "output_type": "stream",
     "text": [
      "100\n",
      "100\n"
     ]
    },
    {
     "data": {
      "text/plain": [
       "null"
      ]
     },
     "execution_count": 127,
     "metadata": {},
     "output_type": "execute_result"
    }
   ],
   "source": [
    "import static java.lang.Math.max;\n",
    "\n",
    "int a = 1, b = 100;\n",
    "\n",
    "System.out.println( Math.max(a, b));\n",
    "System.out.println( max(a, b));"
   ]
  },
  {
   "cell_type": "code",
   "execution_count": 128,
   "metadata": {},
   "outputs": [
    {
     "name": "stdout",
     "output_type": "stream",
     "text": [
      "23.140692632779263\n",
      "23.140692632779263\n"
     ]
    },
    {
     "data": {
      "text/plain": [
       "null"
      ]
     },
     "execution_count": 128,
     "metadata": {},
     "output_type": "execute_result"
    }
   ],
   "source": [
    "import static java.lang.Math.*;\n",
    "\n",
    "System.out.println( pow(E,PI));\n",
    "\n",
    "System.out.println( Math.pow( Math.E, Math.PI ));"
   ]
  },
  {
   "cell_type": "markdown",
   "metadata": {},
   "source": [
    "### [Expressões Lambda](https://docs.oracle.com/javase/tutorial/java/javaOO/lambdaexpressions.html)\n",
    "\n",
    "Oferece uma forma sucinta de instanciar de forma anónima uma interface seja qual for o seu nome, desde que tenha apenas um método, independentemente do nome deste.\n",
    "\n",
    "#### Exemplos \n",
    "\n",
    "##### Lançar um Thread (s/ Expressão Lambda, via classe anónima)"
   ]
  },
  {
   "cell_type": "code",
   "execution_count": 101,
   "metadata": {},
   "outputs": [
    {
     "data": {
      "text/plain": [
       "null"
      ]
     },
     "execution_count": 101,
     "metadata": {},
     "output_type": "execute_result"
    }
   ],
   "source": [
    "int a = 123;\n",
    "new Thread( new Runnable() {\n",
    "   public void run() {\n",
    "       System.gc();\n",
    "   } \n",
    "}).start();"
   ]
  },
  {
   "cell_type": "markdown",
   "metadata": {},
   "source": [
    "##### Lançar um Thread (c/ Expressão Lambda composta por um bloco {...} )"
   ]
  },
  {
   "cell_type": "code",
   "execution_count": 102,
   "metadata": {},
   "outputs": [
    {
     "data": {
      "text/plain": [
       "null"
      ]
     },
     "execution_count": 102,
     "metadata": {},
     "output_type": "execute_result"
    }
   ],
   "source": [
    "new Thread( () -> {\n",
    "    System.gc();\n",
    "}).start();"
   ]
  },
  {
   "cell_type": "markdown",
   "metadata": {},
   "source": [
    "##### Lançar um Thread (c/ Expressão Lambda com uma única instrução)"
   ]
  },
  {
   "cell_type": "code",
   "execution_count": 103,
   "metadata": {},
   "outputs": [
    {
     "data": {
      "text/plain": [
       "null"
      ]
     },
     "execution_count": 103,
     "metadata": {},
     "output_type": "execute_result"
    }
   ],
   "source": [
    "new Thread( () -> System.gc() ).start();"
   ]
  },
  {
   "cell_type": "markdown",
   "metadata": {},
   "source": [
    "##### Lançar um Thread (c/ Expressão Lambda implícita, via uma [referência para um método](https://docs.oracle.com/javase/tutorial/java/javaOO/methodreferences.html))"
   ]
  },
  {
   "cell_type": "code",
   "execution_count": 129,
   "metadata": {},
   "outputs": [
    {
     "data": {
      "text/plain": [
       "null"
      ]
     },
     "execution_count": 129,
     "metadata": {},
     "output_type": "execute_result"
    }
   ],
   "source": [
    "new Thread( System::gc ).start();"
   ]
  },
  {
   "cell_type": "markdown",
   "metadata": {},
   "source": [
    "#### Implementar um comparador"
   ]
  },
  {
   "cell_type": "code",
   "execution_count": 140,
   "metadata": {},
   "outputs": [
    {
     "name": "stdout",
     "output_type": "stream",
     "text": [
      "[z, xx, aa, abc]\n"
     ]
    },
    {
     "data": {
      "text/plain": [
       "null"
      ]
     },
     "execution_count": 140,
     "metadata": {},
     "output_type": "execute_result"
    }
   ],
   "source": [
    "import java.util.*;\n",
    "\n",
    "String[] strings = {\"z\", \"xx\", \"abc\", \"aa\"};\n",
    "\n",
    "Arrays.sort( strings, (a, b) -> a.length() - b.length() );\n",
    "\n",
    "System.out.println( Arrays.asList(strings) );"
   ]
  },
  {
   "cell_type": "markdown",
   "metadata": {},
   "source": [
    "### Foreach\n",
    "\n",
    "Permite iterar um vetor ou uma coleção que não será alterada, e desde que esta implemente [Iterable](https://docs.oracle.com/javase/8/docs/api/java/lang/Iterable.html).\n",
    "\n",
    "#### Exemplos"
   ]
  },
  {
   "cell_type": "code",
   "execution_count": 141,
   "metadata": {},
   "outputs": [
    {
     "name": "stdout",
     "output_type": "stream",
     "text": [
      "1\n",
      "2\n",
      "3\n",
      "4\n"
     ]
    },
    {
     "data": {
      "text/plain": [
       "null"
      ]
     },
     "execution_count": 141,
     "metadata": {},
     "output_type": "execute_result"
    }
   ],
   "source": [
    "int[] numbers = { 1, 2, 3, 4 };\n",
    "\n",
    "for( int i : numbers )\n",
    "    System.out.println(i);"
   ]
  },
  {
   "cell_type": "code",
   "execution_count": 132,
   "metadata": {},
   "outputs": [
    {
     "name": "stdout",
     "output_type": "stream",
     "text": [
      "a\n",
      "b\n",
      "c\n",
      "d\n"
     ]
    },
    {
     "data": {
      "text/plain": [
       "null"
      ]
     },
     "execution_count": 132,
     "metadata": {},
     "output_type": "execute_result"
    }
   ],
   "source": [
    "import java.util.*;\n",
    "\n",
    "List<String> strings = Arrays.asList(\"a\", \"b\", \"c\", \"d\");\n",
    "\n",
    "for( String s : strings )\n",
    "    System.out.println(s);"
   ]
  },
  {
   "cell_type": "markdown",
   "metadata": {},
   "source": [
    "#### Foreach + Expressão Lambda"
   ]
  },
  {
   "cell_type": "code",
   "execution_count": 133,
   "metadata": {},
   "outputs": [
    {
     "name": "stdout",
     "output_type": "stream",
     "text": [
      "a\n",
      "b\n",
      "c\n",
      "d\n"
     ]
    },
    {
     "data": {
      "text/plain": [
       "null"
      ]
     },
     "execution_count": 133,
     "metadata": {},
     "output_type": "execute_result"
    }
   ],
   "source": [
    "import java.util.*;\n",
    "\n",
    "List<String> strings = Arrays.asList(\"a\", \"b\", \"c\", \"d\");\n",
    "\n",
    "strings.forEach( s -> {\n",
    "    System.out.println( s );\n",
    "});"
   ]
  },
  {
   "cell_type": "markdown",
   "metadata": {},
   "source": [
    "#### Foreach + Expressão Lambda + Referência para um método"
   ]
  },
  {
   "cell_type": "code",
   "execution_count": 134,
   "metadata": {},
   "outputs": [
    {
     "name": "stdout",
     "output_type": "stream",
     "text": [
      "a\n",
      "b\n",
      "c\n",
      "d\n"
     ]
    },
    {
     "data": {
      "text/plain": [
       "null"
      ]
     },
     "execution_count": 134,
     "metadata": {},
     "output_type": "execute_result"
    }
   ],
   "source": [
    "import java.util.*;\n",
    "\n",
    "List<String> strings = Arrays.asList(\"a\", \"b\", \"c\", \"d\");\n",
    "\n",
    "strings.forEach( System.out::println );"
   ]
  },
  {
   "cell_type": "markdown",
   "metadata": {},
   "source": [
    "### [Anotações](https://docs.oracle.com/javase/tutorial/java/annotations/)\n",
    "\n",
    "Permitem adicionar metadados ao código Java. Os metadados associados às anotações podem ser retidos junto com o *bytecode* da classe e acedidos em tempo de execução, por via do mecanismo de reflexão. \n",
    "As anotações podem servir para instrumentar e aumentar o código, automaticamente, como no caso dos webservices JAX-RS. Na fase de compilação podem ser usados para fazer validações. Poderá ver mais e o exemplo [@Override]((https://en.wikipedia.org/wiki/Java_annotation) na Wikipedia.\n",
    "\n"
   ]
  },
  {
   "cell_type": "markdown",
   "metadata": {},
   "source": [
    "### [Métodos Genéricos](https://docs.oracle.com/javase/tutorial/extra/generics/methods.html)\n",
    "\n",
    "\n",
    "Além das classes e interfaces, os métodos (individualmente) podem ser genéricos, por via\n",
    "do tipo dos parâmetros ou do resultado, ou ambos.\n",
    "\n",
    "#### Exemplo\n",
    "Dado um array elementos do tipo T, retorna um conjunto de elementos do tipo T, eliminado eventuais duplicados."
   ]
  },
  {
   "cell_type": "code",
   "execution_count": 137,
   "metadata": {},
   "outputs": [
    {
     "data": {
      "text/plain": [
       "com.twosigma.beaker.javash.bkrae429ceb.Utils"
      ]
     },
     "execution_count": 137,
     "metadata": {},
     "output_type": "execute_result"
    }
   ],
   "source": [
    "import java.util.*;\n",
    "\n",
    "interface Utils {\n",
    "    static <T> Set<T> array2Set( T[] a ) {\n",
    "        Set<T> res = new HashSet<>(a.length);\n",
    "        for( T i : a )\n",
    "            res.add( i);\n",
    "        return res;\n",
    "    }    \n",
    "}"
   ]
  },
  {
   "cell_type": "code",
   "execution_count": 263,
   "metadata": {},
   "outputs": [
    {
     "name": "stdout",
     "output_type": "stream",
     "text": [
      "a\n",
      "b\n"
     ]
    },
    {
     "data": {
      "text/plain": [
       "null"
      ]
     },
     "execution_count": 263,
     "metadata": {},
     "output_type": "execute_result"
    }
   ],
   "source": [
    "String[] strings = {\"a\", \"b\", \"a\", \"a\"};\n",
    "\n",
    "Utils.array2Set( strings ).forEach( s -> System.out.println(s) );"
   ]
  },
  {
   "cell_type": "markdown",
   "metadata": {},
   "source": [
    "### [Java Streams]() (Programação Funcional)\n",
    "\n",
    "A API Java Streams (não confundir com I/O), juntamente com as [Expressões Lambda](https://docs.oracle.com/javase/tutorial/java/javaOO/lambdaexpressions.html), permite\n",
    "adoptar um estilo de programação funcional no processamento de coleções de dados, sequencialmente ou em paralelo. De uma forma sucinta permite gerar sequências, fazer filtragens, transformações e agregações."
   ]
  },
  {
   "cell_type": "markdown",
   "metadata": {},
   "source": [
    "#### Sequências\n",
    "\n",
    "Existem várias formas de gerar streams que representam sequências de elementos. \n",
    "\n",
    "Em alguns casos, pode-se gerar os valores sem materializar todos os elementos da sequência ao mesmo tempo."
   ]
  },
  {
   "cell_type": "code",
   "execution_count": 222,
   "metadata": {},
   "outputs": [
    {
     "name": "stdout",
     "output_type": "stream",
     "text": [
      "0\n",
      "1\n",
      "2\n",
      "3\n",
      "4\n",
      "5\n",
      "6\n",
      "7\n",
      "8\n",
      "9\n",
      "1\n",
      "4\n",
      "6\n",
      "7\n",
      "10\n",
      "a\n",
      "b\n",
      "c\n",
      "a\n",
      "b\n",
      "c\n"
     ]
    },
    {
     "data": {
      "text/plain": [
       "null"
      ]
     },
     "execution_count": 222,
     "metadata": {},
     "output_type": "execute_result"
    }
   ],
   "source": [
    "import java.util.stream.*;\n",
    "\n",
    "IntStream.range(0, 10).forEach( i -> {\n",
    "    System.out.println(i);\n",
    "});\n",
    "\n",
    "IntStream.of(1, 4, 6, 7, 10).forEach( i -> {\n",
    "    System.out.println(i);\n",
    "});\n",
    "\n",
    "Stream.of(\"a\", \"b\", \"c\").forEach( s -> {\n",
    "    System.out.println( s );\n",
    "});\n",
    "\n",
    "String[] strings = {\"a\", \"b\", \"c\"};\n",
    "Stream.of( strings ).forEach( s -> {\n",
    "    System.out.println( s );\n",
    "});\n"
   ]
  },
  {
   "cell_type": "markdown",
   "metadata": {},
   "source": [
    "#### Streams a partir de Coleções\n",
    "\n",
    "As colecções do pacote [java.util](https://docs.oracle.com/javase/8/docs/api/java/util/package-summary.html) e [java.util.concurrent](https://docs.oracle.com/javase/8/docs/api/java/util/concurrent/package-frame.html) podem ser vistas ou consumidas sob a forma de um stream..."
   ]
  },
  {
   "cell_type": "code",
   "execution_count": 198,
   "metadata": {},
   "outputs": [
    {
     "name": "stdout",
     "output_type": "stream",
     "text": [
      "Zulmira\n",
      "Ana\n",
      "António\n"
     ]
    },
    {
     "data": {
      "text/plain": [
       "null"
      ]
     },
     "execution_count": 198,
     "metadata": {},
     "output_type": "execute_result"
    }
   ],
   "source": [
    "import java.util.*;\n",
    "\n",
    "List<String> listOfStrings = Arrays.asList(\"Zulmira\", \"Ana\", \"António\");\n",
    "\n",
    "listOfStrings.stream().forEach( s -> {\n",
    "    System.out.println( s );\n",
    "});"
   ]
  },
  {
   "cell_type": "markdown",
   "metadata": {},
   "source": [
    "#### Ordenação\n",
    "\n",
    "Dado um stream, pode-se obter outro stream ordenando os seus elementos. O critério de ordenação pode ser a ordem natural dos elementos, ou fornecendo explicitamente um comparador."
   ]
  },
  {
   "cell_type": "code",
   "execution_count": 223,
   "metadata": {},
   "outputs": [
    {
     "name": "stdout",
     "output_type": "stream",
     "text": [
      "Ana\n",
      "João\n",
      "Zé\n",
      "Zé\n",
      "Ana\n",
      "João\n"
     ]
    },
    {
     "data": {
      "text/plain": [
       "null"
      ]
     },
     "execution_count": 223,
     "metadata": {},
     "output_type": "execute_result"
    }
   ],
   "source": [
    "import java.util.*;\n",
    "\n",
    "List<String> listOfStrings = Arrays.asList(\"Zé\", \"Ana\", \"João\");\n",
    "\n",
    "listOfStrings.stream().sorted().forEach( s -> {\n",
    "    System.out.println( s );\n",
    "});\n",
    "\n",
    "listOfStrings.stream().sorted((a,b) -> a.length() - b.length()).forEach( s -> {\n",
    "    System.out.println( s );\n",
    "});"
   ]
  },
  {
   "cell_type": "markdown",
   "metadata": {},
   "source": [
    "#### Filtragem\n",
    "\n",
    "Pode-se derivar um stream de outro, retendo do stream original os elementos que verificam um dado [predicado](https://docs.oracle.com/javase/8/docs/api/index.html?java/util/package-summary.html)."
   ]
  },
  {
   "cell_type": "code",
   "execution_count": 200,
   "metadata": {},
   "outputs": [
    {
     "name": "stdout",
     "output_type": "stream",
     "text": [
      "0\n",
      "2\n",
      "4\n",
      "6\n",
      "8\n",
      "Ana\n",
      "António\n",
      "Ana\n",
      "António\n"
     ]
    },
    {
     "data": {
      "text/plain": [
       "null"
      ]
     },
     "execution_count": 200,
     "metadata": {},
     "output_type": "execute_result"
    }
   ],
   "source": [
    "import java.util.*;\n",
    "import java.util.stream.*;\n",
    "\n",
    "IntStream.range(0, 10).filter( i -> i%2 == 0).forEach( i -> {\n",
    "    System.out.println( i );\n",
    "});\n",
    "\n",
    "Stream.of(\"Zulmira\", \"Ana\", \"António\").filter( s -> s.startsWith(\"A\") ).forEach( s -> {\n",
    "   System.out.println( s ); \n",
    "});\n",
    "\n",
    "List<String> listOfStrings = Arrays.asList(\"Zulmira\", \"Ana\", \"António\");\n",
    "\n",
    "listOfStrings.stream().filter( s -> s.startsWith(\"A\")).forEach( s -> {\n",
    "    System.out.println( s );\n",
    "});"
   ]
  },
  {
   "cell_type": "markdown",
   "metadata": {},
   "source": [
    "#### Procurar\n",
    "\n",
    "Pode-se procurar por uma qualquer ocorrência, ou pela primeira ocorrência, de um elemento num stream."
   ]
  },
  {
   "cell_type": "code",
   "execution_count": 201,
   "metadata": {},
   "outputs": [
    {
     "name": "stdout",
     "output_type": "stream",
     "text": [
      "Ana\n",
      "Ana\n"
     ]
    },
    {
     "data": {
      "text/plain": [
       "null"
      ]
     },
     "execution_count": 201,
     "metadata": {},
     "output_type": "execute_result"
    }
   ],
   "source": [
    "import java.util.*;\n",
    "\n",
    "List<String> listOfStrings = Arrays.asList(\"Zulmira\", \"Ana\", \"António\");\n",
    "\n",
    "Optional<String> first = listOfStrings.stream().filter( s -> s.startsWith(\"A\")).findFirst();\n",
    "if( first.isPresent() ) {\n",
    "    System.out.println( first.get() );\n",
    "}\n",
    "\n",
    "Optional<String> any = listOfStrings.stream().filter( s -> s.startsWith(\"A\")).findAny();\n",
    "if( first.isPresent() ) {\n",
    "    System.out.println( first.get() );\n",
    "}"
   ]
  },
  {
   "cell_type": "markdown",
   "metadata": {},
   "source": [
    "#### Agregações simples (eg., count, sum, max, etc.)\n",
    "\n",
    "Algumas agregações mais comuns já fazem parte das operações fornecidas. Em alguns casos,\n",
    "quando o resultado pode não existir, o tipo de retorno é um [Optional](https://docs.oracle.com/javase/8/docs/api/index.html?java/util/OptionalInt.html) ou a uma  variante, como o [IntOptional](https://docs.oracle.com/javase/8/docs/api/java/util/OptionalInt.html)  para o caso de valores primitivos."
   ]
  },
  {
   "cell_type": "code",
   "execution_count": 211,
   "metadata": {},
   "outputs": [
    {
     "name": "stdout",
     "output_type": "stream",
     "text": [
      "soma: 45\n",
      "count: 5\n",
      "nomes: 2\n",
      "minimo: 1\n"
     ]
    },
    {
     "data": {
      "text/plain": [
       "null"
      ]
     },
     "execution_count": 211,
     "metadata": {},
     "output_type": "execute_result"
    }
   ],
   "source": [
    "import java.util.*;\n",
    "import java.util.stream.*;\n",
    "\n",
    "int soma = IntStream.range(0, 10).sum();\n",
    "System.out.println( \"soma: \" + soma );\n",
    "\n",
    "long count = IntStream.of(1, 4, 6, 7, 10).count();\n",
    "System.out.println( \"count: \" + count);\n",
    "\n",
    "long nomes = Stream.of(\"Zulmira\", \"Ana\", \"António\").filter( s -> s.startsWith(\"A\") ).count();\n",
    "System.out.println( \"nomes: \" + nomes );\n",
    "\n",
    "int min = IntStream.of(1, 4, 6, 7, 10).min().orElse(-1);\n",
    "System.out.println( \"minimo: \" + min );"
   ]
  },
  {
   "cell_type": "markdown",
   "metadata": {},
   "source": [
    "#### Transformação\n",
    "\n",
    "Pode-se derivar um novo stream a partir de outro, transformando os elementos através de uma função. Existem também formas de transformar um stream de valores primitivos num stream de objetos e vice-versa."
   ]
  },
  {
   "cell_type": "code",
   "execution_count": 229,
   "metadata": {},
   "outputs": [
    {
     "name": "stdout",
     "output_type": "stream",
     "text": [
      "0\n",
      "2\n",
      "4\n",
      "6\n",
      "8\n",
      "10\n",
      "12\n",
      "14\n",
      "16\n",
      "18\n",
      "longest: 7\n",
      "ZULMIRA\n",
      "ANA\n",
      "ANTÓNIO\n",
      "ZULMIRA\n",
      "ANA\n",
      "ANTÓNIO\n"
     ]
    },
    {
     "data": {
      "text/plain": [
       "null"
      ]
     },
     "execution_count": 229,
     "metadata": {},
     "output_type": "execute_result"
    }
   ],
   "source": [
    "import java.util.*;\n",
    "import java.util.stream.*;\n",
    "\n",
    "IntStream.range(0, 10).map( i -> 2*i).forEach( i -> {\n",
    "   System.out.println( i ); \n",
    "});\n",
    "\n",
    "List<String> listOfStrings = Arrays.asList(\"Zulmira\", \"Ana\", \"António\");\n",
    "\n",
    "int longest = listOfStrings.stream().mapToInt( s -> s.length() ).max().orElse(0);\n",
    "System.out.println(\"longest: \" + longest );\n",
    "\n",
    "listOfStrings.stream().map( s -> s.toUpperCase() ).forEach( s -> {\n",
    "    System.out.println( s );\n",
    "});\n",
    "\n",
    "listOfStrings.stream().map( String::toUpperCase ).forEach( System.out::println );"
   ]
  },
  {
   "cell_type": "markdown",
   "metadata": {},
   "source": [
    "#### Explosão\n",
    "\n",
    "Pode-se derivar um stream de outro por explosão dos seus valores. Cada valor do stream original pode gerar 0 ou mais valores no stream derivado. "
   ]
  },
  {
   "cell_type": "code",
   "execution_count": 238,
   "metadata": {},
   "outputs": [
    {
     "name": "stdout",
     "output_type": "stream",
     "text": [
      "Ana\n",
      "Zulmira\n",
      "Ana\n",
      "Sofia\n",
      "António\n",
      "João\n",
      "Zé\n"
     ]
    },
    {
     "data": {
      "text/plain": [
       "null"
      ]
     },
     "execution_count": 238,
     "metadata": {},
     "output_type": "execute_result"
    }
   ],
   "source": [
    "import java.util.stream.*;\n",
    "\n",
    "Stream.of(\"Ana Zulmira\", \"Ana Sofia\", \"António João\", \"Zé\")\n",
    "    .flatMap( s-> Stream.of(s.split(\" \")))\n",
    "    .forEach( s -> {\n",
    "        System.out.println( s );\n",
    "    });"
   ]
  },
  {
   "cell_type": "markdown",
   "metadata": {},
   "source": [
    "#### Coligir\n",
    "\n",
    "Pode-se coligir os valores de um stream numa coleção. Há coletores para produzir listas, conjuntos e dicionários."
   ]
  },
  {
   "cell_type": "code",
   "execution_count": 249,
   "metadata": {},
   "outputs": [
    {
     "name": "stdout",
     "output_type": "stream",
     "text": [
      "[Ana, Zé]\n",
      "[Ana, Zé]\n",
      "{Zulmira=7, João=4, António=7, Ana=3, Sofia=5, Zé=2}\n"
     ]
    },
    {
     "data": {
      "text/plain": [
       "null"
      ]
     },
     "execution_count": 249,
     "metadata": {},
     "output_type": "execute_result"
    }
   ],
   "source": [
    "import java.util.*;\n",
    "import java.util.stream.*;\n",
    "\n",
    "List<String> list = Stream.of(\"Ana Zulmira\", \"Ana Sofia\", \"António João\", \"Zé\")\n",
    "    .flatMap( s -> Stream.of( s.split(\" \")))\n",
    "    .filter( s ->s.length() <= 3 )\n",
    "    .distinct()\n",
    "    .collect( Collectors.toList() );\n",
    "\n",
    "System.out.println(list);\n",
    "\n",
    "Set<String> set = Stream.of(\"Ana Zulmira\", \"Ana Sofia\", \"António João\", \"Zé\")\n",
    "    .flatMap( s -> Stream.of( s.split(\" \")))\n",
    "    .filter( s ->s.length() <= 3 )\n",
    "    .collect( Collectors.toSet() );\n",
    "\n",
    "System.out.println(set);\n",
    "\n",
    "Map<String, Integer> lengths = Stream.of(\"Ana Zulmira\", \"Ana Sofia\", \"António João\", \"Zé\")\n",
    "    .flatMap( s -> Stream.of( s.split(\" \")))\n",
    "    .distinct()\n",
    "    .collect( Collectors.toMap( s -> s, s -> s.length() ));\n",
    "\n",
    "System.out.println( lengths );"
   ]
  },
  {
   "cell_type": "markdown",
   "metadata": {},
   "source": [
    "#### Agrupar\n",
    "Pode-se coligir e agrupar ao mesmo tempo..."
   ]
  },
  {
   "cell_type": "code",
   "execution_count": 258,
   "metadata": {},
   "outputs": [
    {
     "name": "stdout",
     "output_type": "stream",
     "text": [
      "{2=[Zé], 3=[Eva, Ana, Rui], 4=[Rita, João]}\n"
     ]
    },
    {
     "data": {
      "text/plain": [
       "null"
      ]
     },
     "execution_count": 258,
     "metadata": {},
     "output_type": "execute_result"
    }
   ],
   "source": [
    "import java.util.*;\n",
    "import java.util.stream.*;\n",
    "import static java.util.stream.Collectors.*;\n",
    "\n",
    "Map<Integer,Set<String>> groups = Stream.of(\"Ana\", \"Rita\", \"João\", \"Rui\", \"Zé\", \"Eva\")\n",
    "    .collect( groupingBy(s -> s.length(), HashMap::new, mapping( s->s, toSet())));\n",
    "\n",
    "System.out.println( groups );"
   ]
  },
  {
   "cell_type": "markdown",
   "metadata": {},
   "source": [
    "#### Paralelismo\n",
    "\n",
    "Dado um stream pode-se obter uma versão paralela do mesmo, de forma a tirar partido\n",
    "de plataformas multi-core. O *runtime* ajusta automaticamente o número de *threads*\n",
    "às capacidades concretas do ambiente de execução."
   ]
  },
  {
   "cell_type": "code",
   "execution_count": 259,
   "metadata": {},
   "outputs": [
    {
     "name": "stdout",
     "output_type": "stream",
     "text": [
      "62\n",
      "12\n",
      "13\n",
      "14\n",
      "15\n",
      "16\n",
      "17\n",
      "18\n",
      "19\n",
      "20\n",
      "21\n",
      "22\n",
      "23\n",
      "24\n",
      "6\n",
      "7\n",
      "8\n",
      "9\n",
      "10\n",
      "11\n",
      "63\n",
      "64\n",
      "65\n",
      "66\n",
      "67\n",
      "31\n",
      "32\n",
      "33\n",
      "34\n",
      "35\n",
      "36\n",
      "25\n",
      "26\n",
      "27\n",
      "28\n",
      "29\n",
      "30\n",
      "43\n",
      "44\n",
      "45\n",
      "46\n",
      "47\n",
      "48\n",
      "49\n",
      "37\n",
      "38\n",
      "39\n",
      "40\n",
      "41\n",
      "42\n",
      "56\n",
      "57\n",
      "58\n",
      "59\n",
      "60\n",
      "61\n",
      "50\n",
      "51\n",
      "52\n",
      "53\n",
      "54\n",
      "55\n",
      "81\n",
      "82\n",
      "83\n",
      "84\n",
      "85\n",
      "86\n",
      "75\n",
      "76\n",
      "77\n",
      "78\n",
      "79\n",
      "80\n",
      "93\n",
      "94\n",
      "95\n",
      "96\n",
      "97\n",
      "98\n",
      "99\n",
      "87\n",
      "88\n",
      "89\n",
      "90\n",
      "91\n",
      "92\n",
      "68\n",
      "69\n",
      "70\n",
      "71\n",
      "72\n",
      "73\n",
      "74\n",
      "0\n",
      "1\n",
      "2\n",
      "3\n",
      "4\n",
      "5\n"
     ]
    },
    {
     "data": {
      "text/plain": [
       "null"
      ]
     },
     "execution_count": 259,
     "metadata": {},
     "output_type": "execute_result"
    }
   ],
   "source": [
    "import java.util.stream.*;\n",
    "\n",
    "IntStream.range(0, 100).parallel().forEach( System.out::println );"
   ]
  }
 ],
 "metadata": {
  "kernelspec": {
   "display_name": "Java",
   "language": "java",
   "name": "java"
  },
  "language_info": {
   "codemirror_mode": "text/x-java",
   "file_extension": ".java",
   "mimetype": "",
   "name": "Java",
   "nbconverter_exporter": "",
   "version": "1.8.0_152-release"
  }
 },
 "nbformat": 4,
 "nbformat_minor": 2
}
